{
 "cells": [
  {
   "cell_type": "markdown",
   "metadata": {},
   "source": [
    "# CS 505 Homework 03:  N-Gram Modelling\n",
    "\n",
    "#### Due Monday  10/9 at midnight (1 minute after 11:59 pm) in Gradescope (with a grace period of 6 hours)\n",
    "#### You may submit the homework up to 24 hours late (with the same grace period) for a penalty of 10%. \n",
    "\n",
    "All homeworks will be scored with a maximum of 100 points; point values are given\n",
    "for individual problems, and if parts of problems do not have point values given, they\n",
    "will be counted equally toward the total for that problem. \n",
    "\n",
    "Note: I strongly recommend you work in **Google Colab** (the free version) to complete homeworks in this class; in addition to (probably) being faster than your laptop, all the necessary libraries will already be available to you, and you don't have to hassle with <code>conda</code>, <code>pip</code>, etc. and resolving problems when the install doesn't work. But it is up to you!   You should go through the necessary tutorials listed on the web site concerning Colab and storing files on a Google Drive. And of course, Dr. Google is always ready to help you resolve your problems. \n",
    "\n",
    "I will post a  \"walk-through\" video ASAP on my <a href=\"https://www.youtube.com/channel/UCfSqNB0yh99yuG4p4nzjPOA\">Youtube Channel</a>. \n",
    "\n",
    "#### Submission Instructions\n",
    "\n",
    "You must complete the homework by editing <b>this notebook</b> and submitting the following two files in Gradescope by the due date and time:\n",
    "\n",
    "  - A file <code>HW03.ipynb</code> (be sure to select <code>Kernel -> Restart and Run All</code> before you submit, to make sure everything works); and\n",
    "  - A file <code>HW03.pdf</code> created from the previous.\n",
    "  \n",
    "  For best results obtaining a clean PDF file on the Mac, select <code>File -> Print Review</code> from the Jupyter window, then choose <code>File-> Print</code> in your browser and then <code>Save as PDF</code>.  Something  similar should be possible on a Windows machine -- just make sure it is readable and no cell contents have been cut off. Make it easy to grade!\n",
    "  \n",
    "The date and time of your submission is the last file you submitted, so if your IPYNB file is submitted on time, but your PDF is late, then your submission is late. "
   ]
  },
  {
   "cell_type": "markdown",
   "metadata": {},
   "source": [
    "## Collaborators (5 pts)\n",
    "\n",
    "Describe briefly but precisely\n",
    "\n",
    "1. Any persons you discussed this homework with and the nature of the discussion;\n",
    "2. Any online resources you consulted and what information you got from those resources; and\n",
    "3. Any AI agents (such as chatGPT or CoPilot) or other applications you used to complete the homework, and the nature of the help you received. \n",
    "\n",
    "A few brief sentences is all that I am looking for here. \n",
    "\n",
    "    chatGPT: requested chatGPT to debug (prob_not_normalized ** -1/(N-1)) vs. pow(prob_not_normalized, -1/(N-1)) in 2C and clarify how Python deals with floating point number computation.\n",
    "    Python documentation: np.random.seed, np.random.choice, dict.get(), assert or other error handling techniques\n",
    "    "
   ]
  },
  {
   "cell_type": "code",
   "execution_count": 2,
   "metadata": {
    "scrolled": false
   },
   "outputs": [
    {
     "name": "stderr",
     "output_type": "stream",
     "text": [
      "[nltk_data] Downloading package brown to /Users/yfsong/nltk_data...\n",
      "[nltk_data]   Package brown is already up-to-date!\n"
     ]
    },
    {
     "data": {
      "text/plain": [
       "True"
      ]
     },
     "execution_count": 2,
     "metadata": {},
     "output_type": "execute_result"
    }
   ],
   "source": [
    "import math\n",
    "import numpy as np\n",
    "from numpy.random import shuffle, seed, choice\n",
    "import nltk\n",
    "from tqdm import tqdm\n",
    "from collections import defaultdict\n",
    "\n",
    "# First time you will need to download the corpus:\n",
    "# Run the following and download the book collection\n",
    "\n",
    "from nltk.corpus import brown\n",
    "nltk.download('brown')\n",
    "\n"
   ]
  },
  {
   "cell_type": "code",
   "execution_count": 3,
   "metadata": {},
   "outputs": [
    {
     "data": {
      "text/plain": [
       "[['The', 'Fulton', 'County', 'Grand', 'Jury', 'said', 'Friday', 'an', 'investigation', 'of', \"Atlanta's\", 'recent', 'primary', 'election', 'produced', '``', 'no', 'evidence', \"''\", 'that', 'any', 'irregularities', 'took', 'place', '.'], ['The', 'jury', 'further', 'said', 'in', 'term-end', 'presentments', 'that', 'the', 'City', 'Executive', 'Committee', ',', 'which', 'had', 'over-all', 'charge', 'of', 'the', 'election', ',', '``', 'deserves', 'the', 'praise', 'and', 'thanks', 'of', 'the', 'City', 'of', 'Atlanta', \"''\", 'for', 'the', 'manner', 'in', 'which', 'the', 'election', 'was', 'conducted', '.'], ...]"
      ]
     },
     "execution_count": 3,
     "metadata": {},
     "output_type": "execute_result"
    }
   ],
   "source": [
    "brown.sents()"
   ]
  },
  {
   "cell_type": "markdown",
   "metadata": {},
   "source": [
    "## Problem One:  Bag of N-Grams\n",
    "\n",
    "A BOW is a language modelling technique (also called a Term Frequency Vector) which creates a frequency distribution for a set of tokens -- or unigrams!\n",
    "Extending this idea a bit, we can also create a Bag of N-Grams, which is a frequency distribution for\n",
    "a set of N-grams for some N. If we divide the frequency by the number of N-grams, we have a probability distribution, such as we showed for the exciting text about John and Mary in Lecture 5. \n",
    "\n",
    "For this homework, we are going to create such Bag of N-Gram models for N = 1, 2, 3, & 4, for the sentences\n",
    "in `brown.sents()`.  We will evaluate them using a test set, and then in the second part of the\n",
    "homework, we shall use them to generate sentences. \n",
    "\n",
    "\n",
    "**Note 1:**  We do not want to do the same low-level transformations in this project\n",
    "as we did in HW 02. We will keep the capitalization, punctuation, and\n",
    "words in all their various forms.  There are some strange things in `brown.sents()`, such as double semicolons, and bad sentence segmentation, but we will assume\n",
    "the processing of the texts into `brown.sents()` was consistent, and we will see what\n",
    "our model makes of this data. \n",
    "\n",
    "**Note 2:** Since `brown.sents()` contains punctuation marks as well as words, we shall use the term **tokens**\n",
    "for the strings stored in the sentence lists. "
   ]
  },
  {
   "cell_type": "markdown",
   "metadata": {},
   "source": [
    "### Part A: Randomize the list of sentences and split into training and testing sets\n",
    "\n",
    "We will use  `brown.sents()` (a list of list of tokens) as the basis of our N-gram models. \n",
    "The list `brown.words()` is simply the concatenation of all these lists of tokens. \n",
    "\n",
    "We will shuffle the list into a random order, but using a seed value so that the order of the random\n",
    "shuffle is the same each time. \n",
    "\n",
    "1. Read about `numpy.random.seed` and `numpy.random.shuffle`. \n",
    "\n",
    "2. Set the seed to `0` and shuffle the list: you can't shuffle `brown.sents()` and because `numpy.random.shuffle` modifies the list **in place**, to avoid reshuffling:\n",
    "<ul>\n",
    "    <li> Convert <b>brown.sents()</b> to a list and assign to a new variable <b>sentences</b> and then \n",
    "    <li> <b>Copy sentences</b> to a new variable <b>shuffled_sentences</b> and then\n",
    "    <li> Shuffle that list. \n",
    "</ul>\n",
    "\n",
    "In this way, you will have the original list, and a randomized list, but because of `seed(0)` it will be in the same order every time you run your code (and when we grade it). \n",
    "\n",
    "3. Then split  `shuffled_sentences` into sets `training_sents` (first 99.9% of the sentences) and `testing_sents` (last 0.1%). \n",
    "\n",
    "4. Print out the length of the training and testing sets. \n",
    "\n",
    "5. Print out the first sentence in each of these sets.  \n",
    "\n",
    "In 4 and 5, label the outputs so we know which is which. (Always make outputs easy\n",
    "to understand!)\n",
    "\n",
    "NOTE: The terms \"training set\" and \"testing set\" are very standard, even though we store these in lists (it is\n",
    "possible that there are duplicate sentences). \n"
   ]
  },
  {
   "cell_type": "code",
   "execution_count": 4,
   "metadata": {},
   "outputs": [],
   "source": [
    "# First, shuffle the set of sentences\n",
    "import copy\n",
    "\n",
    "seed(0)  # set the seed to ensure reproducibility\n",
    "\n",
    "# your code here\n",
    "sentences = list(brown.sents())  # original list\n",
    "shuffled_sentences = sentences.copy()\n",
    "shuffle(shuffled_sentences)  # randomized list: np.random.shuffle does not return any value so no assignment needed\n",
    "split_at = math.floor(len(shuffled_sentences)*0.999)\n",
    "train, test = shuffled_sentences[:split_at], shuffled_sentences[split_at:]"
   ]
  },
  {
   "cell_type": "code",
   "execution_count": 5,
   "metadata": {},
   "outputs": [
    {
     "name": "stdout",
     "output_type": "stream",
     "text": [
      "Length training set: 57282.\n",
      "Length testing set: 58.\n",
      "\n",
      "Start of training set:\n",
      "['Muscle', 'weakness', 'did', 'not', 'improve', ',', 'and', 'the', 'patient', 'needed', 'first', 'a', 'cane', ',', 'then', 'crutches', '.']\n",
      "\n",
      "Start of testing set:\n",
      "['It', 'is', 'at', 'least', 'as', 'important', 'as', 'the', 'more', 'dramatic', 'attempts', 'to', 'break', 'down', 'barriers', 'of', 'inequality', 'in', 'the', 'South', '.']\n"
     ]
    }
   ],
   "source": [
    "print(f\"Length training set: {len(train)}.\")\n",
    "print(f\"Length testing set: {len(test)}.\\n\")\n",
    "print(f\"Start of training set:\\n{train[0]}\\n\")\n",
    "print(f\"Start of testing set:\\n{test[0]}\")"
   ]
  },
  {
   "cell_type": "markdown",
   "metadata": {},
   "source": [
    "### Part B\n",
    "\n",
    "Now, you must add the beginning `<s>` and ending `</s>` markers to each sentence in both the\n",
    "training and testing lists.   Do not make any other changes\n",
    "to the sentences -- you will see that punctuation has been left in, such as periods at the end\n",
    "of sentences. Again, we will see what our models make of this data set. \n",
    "\n",
    "Print out the first sentence in each of the training and testing sets to check that all is well. "
   ]
  },
  {
   "cell_type": "code",
   "execution_count": 6,
   "metadata": {},
   "outputs": [
    {
     "name": "stdout",
     "output_type": "stream",
     "text": [
      "Start of training set:\n",
      "['<s>', 'Muscle', 'weakness', 'did', 'not', 'improve', ',', 'and', 'the', 'patient', 'needed', 'first', 'a', 'cane', ',', 'then', 'crutches', '.', '</s>']\n",
      "\n",
      "Start of testing set:\n",
      "['<s>', 'It', 'is', 'at', 'least', 'as', 'important', 'as', 'the', 'more', 'dramatic', 'attempts', 'to', 'break', 'down', 'barriers', 'of', 'inequality', 'in', 'the', 'South', '.', '</s>']\n"
     ]
    }
   ],
   "source": [
    "# put `<s>` at beginning and `</s>` at end of all sentences.\n",
    "\n",
    "def bracket_sentence(sent):\n",
    "      return ['<s>'] + sent + ['</s>']\n",
    "    \n",
    "# your code here\n",
    "train_markers_added = [bracket_sentence(s) for s in train]\n",
    "test_markers_added = [bracket_sentence(s) for s in test]\n",
    "print(f\"Start of training set:\\n{train_markers_added[0]}\\n\")\n",
    "print(f\"Start of testing set:\\n{test_markers_added[0]}\")"
   ]
  },
  {
   "cell_type": "markdown",
   "metadata": {},
   "source": [
    "###  Part C\n",
    "\n",
    "Complete the following template for a function to extract N-grams from one sentence, and test\n",
    "it for N = 1,2,3,4 for the first sentences in the training set. "
   ]
  },
  {
   "cell_type": "code",
   "execution_count": 7,
   "metadata": {},
   "outputs": [
    {
     "name": "stdout",
     "output_type": "stream",
     "text": [
      "Unigrams (N=1):\n",
      "[('<s>',), ('Muscle',), ('weakness',), ('did',), ('not',), ('improve',), (',',), ('and',), ('the',), ('patient',), ('needed',), ('first',), ('a',), ('cane',), (',',), ('then',), ('crutches',), ('.',), ('</s>',)]\n",
      "\n",
      "Bigrams (N=2):\n",
      "[('<s>', 'Muscle'), ('Muscle', 'weakness'), ('weakness', 'did'), ('did', 'not'), ('not', 'improve'), ('improve', ','), (',', 'and'), ('and', 'the'), ('the', 'patient'), ('patient', 'needed'), ('needed', 'first'), ('first', 'a'), ('a', 'cane'), ('cane', ','), (',', 'then'), ('then', 'crutches'), ('crutches', '.'), ('.', '</s>')]\n",
      "\n",
      "Trigrams (N=3):\n",
      "[('<s>', 'Muscle', 'weakness'), ('Muscle', 'weakness', 'did'), ('weakness', 'did', 'not'), ('did', 'not', 'improve'), ('not', 'improve', ','), ('improve', ',', 'and'), (',', 'and', 'the'), ('and', 'the', 'patient'), ('the', 'patient', 'needed'), ('patient', 'needed', 'first'), ('needed', 'first', 'a'), ('first', 'a', 'cane'), ('a', 'cane', ','), ('cane', ',', 'then'), (',', 'then', 'crutches'), ('then', 'crutches', '.'), ('crutches', '.', '</s>')]\n",
      "\n",
      "Tetragrams (N=4):\n",
      "[('<s>', 'Muscle', 'weakness', 'did'), ('Muscle', 'weakness', 'did', 'not'), ('weakness', 'did', 'not', 'improve'), ('did', 'not', 'improve', ','), ('not', 'improve', ',', 'and'), ('improve', ',', 'and', 'the'), (',', 'and', 'the', 'patient'), ('and', 'the', 'patient', 'needed'), ('the', 'patient', 'needed', 'first'), ('patient', 'needed', 'first', 'a'), ('needed', 'first', 'a', 'cane'), ('first', 'a', 'cane', ','), ('a', 'cane', ',', 'then'), ('cane', ',', 'then', 'crutches'), (',', 'then', 'crutches', '.'), ('then', 'crutches', '.', '</s>')]\n"
     ]
    }
   ],
   "source": [
    "# Return a list of the N-grams for all sentences s\n",
    "\n",
    "# Store all N-grams as tuples, so that a unigram is (w,), a bigram is (w1,w2), etc. \n",
    "\n",
    "def get_Ngrams_for_sentence(N,s):  # N for N-grams, s for one sentence\n",
    "    assert 1<= N <= 4 and isinstance(N, int)\n",
    "    \n",
    "    return [tuple(s[i:i + N]) for i in range(len(s) - N + 1)]\n",
    "    \n",
    "# your code here\n",
    "print(f\"Unigrams (N=1):\\n{get_Ngrams_for_sentence(1, train_markers_added[0])}\\n\")\n",
    "print(f\"Bigrams (N=2):\\n{get_Ngrams_for_sentence(2, train_markers_added[0])}\\n\")\n",
    "print(f\"Trigrams (N=3):\\n{get_Ngrams_for_sentence(3, train_markers_added[0])}\\n\")\n",
    "print(f\"Tetragrams (N=4):\\n{get_Ngrams_for_sentence(4, train_markers_added[0])}\")"
   ]
  },
  {
   "cell_type": "markdown",
   "metadata": {},
   "source": [
    "###  Part D\n",
    "\n",
    "Now create lists of N-grams for all the sentences in your training set (NOT the testing set).\n",
    "Complete the following template to assign these to the given list. \n",
    "\n",
    "Print out the number of N-grams, and the first 5 N-grams in each list for N = 1, 2, 3, 4. \n",
    "\n",
    "Note that this number is the number of occurrences of N-grams, which may not be unique in the list. "
   ]
  },
  {
   "cell_type": "code",
   "execution_count": 8,
   "metadata": {
    "scrolled": true
   },
   "outputs": [
    {
     "name": "stdout",
     "output_type": "stream",
     "text": [
      "There are 1274667 N-grams in Ngrams[1] and the first 5 are:\n",
      "[('<s>',), ('Muscle',), ('weakness',), ('did',), ('not',)]\n",
      "\n",
      "There are 1217385 N-grams in Ngrams[2] and the first 5 are:\n",
      "[('<s>', 'Muscle'), ('Muscle', 'weakness'), ('weakness', 'did'), ('did', 'not'), ('not', 'improve')]\n",
      "\n",
      "There are 1160103 N-grams in Ngrams[3] and the first 5 are:\n",
      "[('<s>', 'Muscle', 'weakness'), ('Muscle', 'weakness', 'did'), ('weakness', 'did', 'not'), ('did', 'not', 'improve'), ('not', 'improve', ',')]\n",
      "\n",
      "There are 1102821 N-grams in Ngrams[4] and the first 5 are:\n",
      "[('<s>', 'Muscle', 'weakness', 'did'), ('Muscle', 'weakness', 'did', 'not'), ('weakness', 'did', 'not', 'improve'), ('did', 'not', 'improve', ','), ('not', 'improve', ',', 'and')]\n",
      "\n"
     ]
    }
   ],
   "source": [
    "Ngrams = [[] for _ in range(5)]\n",
    "# first slot is empty, then Ngram[1] will hold unigrams, Ngram[2] will hold bigrams, etc.\n",
    "# [None] + [[]] would make all n-grams ref to the same memory location\n",
    "\n",
    "for i in range(1,5):\n",
    "    for s in train_markers_added:\n",
    "        Ngrams[i] += get_Ngrams_for_sentence(i,s)\n",
    "\n",
    "num_ngrams = [None] + [len(Ngrams[i]) for i in range(1,5)]\n",
    "first_5 = [None] + [Ngrams[i][:5] for i in range(1,5)]\n",
    "\n",
    "for i in range(1,5):\n",
    "    print(f\"There are {num_ngrams[i]} N-grams in Ngrams[{i}] and the first 5 are:\\n{first_5[i]}\\n\")"
   ]
  },
  {
   "cell_type": "markdown",
   "metadata": {},
   "source": [
    "### Part E\n",
    "\n",
    "We will now create a probability distribution for each of the Ngram collections. Note carefully\n",
    "that you must divide the frequency of each N-gram by the number of occurrences of N-grams, not\n",
    "the number of unique N-grams. \n",
    "\n",
    "Note that we have set the probability of the unigram `<s>` to 1.0. This is because we are\n",
    "interested in calculating the probability of sentences, which *always* begin with the token `'<s>'`. \n",
    "\n",
    "Complete the following template and then\n",
    "\n",
    "1. Print out the total number of N-grams in each dictionary (they should be a bit smaller than the totals in the last part - why?).\n",
    "2. Test your code by printing out the probability of the following Ngrams to 8 digits of precision:\n",
    "\n",
    "        ('to',)           \n",
    "        ('to','the')            \n",
    "        ('to','the','house')              \n",
    "        ('to','the','house','.') "
   ]
  },
  {
   "cell_type": "code",
   "execution_count": 288,
   "metadata": {
    "scrolled": true
   },
   "outputs": [],
   "source": [
    "# Create a defaultdict with the frequency distribution for the training set for a given N.\n",
    "from collections import defaultdict\n",
    "\n",
    "def get_Ngram_distribution(N,Ngrams):  # N for 1-4, Ngrams for collections of unigrams, etc\n",
    "    new_dict = defaultdict(lambda: 0)\n",
    "    for t in Ngrams: # frequency distribution \n",
    "        new_dict[t] += 1\n",
    "    for k in new_dict:\n",
    "        new_dict[k] /= num_ngrams[N]\n",
    "    return new_dict\n",
    "\n",
    "# probability distribution\n",
    "Ngram_distribution = defaultdict(int)\n",
    "for i in range(1,5):\n",
    "    Ngram_distribution[i] = get_Ngram_distribution(i,Ngrams[i])\n",
    "\n",
    "# Since all setences will start with <s>, its probability should be 1.0\n",
    "Ngram_distribution[1][('<s>',)] = 1.0        "
   ]
  },
  {
   "cell_type": "code",
   "execution_count": 291,
   "metadata": {},
   "outputs": [
    {
     "name": "stdout",
     "output_type": "stream",
     "text": [
      "The total number of unique Ngrams[1] is 56029.\n",
      "\n",
      "The total number of unique Ngrams[2] is 454055.\n",
      "\n",
      "The total number of unique Ngrams[3] is 877117.\n",
      "\n",
      "The total number of unique Ngrams[4] is 1029391.\n",
      "\n",
      "\n",
      "The Probability of ('<s>',) is 1.0.\n",
      "\n",
      "The Probability of ('to',) is 0.02017703.\n",
      "\n",
      "The Probability of ('to','the') is 0.00281341.\n",
      "\n",
      "The Probability of ('to','the','house') is 9.48e-06.\n",
      "\n",
      "The Probability of ('to','the','house','.')  is 2.72e-06.\n"
     ]
    }
   ],
   "source": [
    "# tests\n",
    "for i in range(1,5):   \n",
    "    print(f\"The total number of unique Ngrams[{i}] is {len(Ngram_distribution[i].keys())}.\\n\")\n",
    "\n",
    "print(f\"\\nThe Probability of ('<s>',) is {np.around(Ngram_distribution[1][('<s>',)],8)}.\")\n",
    "print(f\"\\nThe Probability of ('to',) is {np.around(Ngram_distribution[1][('to',)],8)}.\")\n",
    "print(f\"\\nThe Probability of ('to','the') is {np.around(Ngram_distribution[2][('to','the')],8)}.\")\n",
    "print(f\"\\nThe Probability of ('to','the','house') is {np.around(Ngram_distribution[3][('to','the','house')],8)}.\")\n",
    "print(f\"\\nThe Probability of ('to','the','house','.')  is {np.around(Ngram_distribution[4][('to','the','house','.') ],8)}.\")"
   ]
  },
  {
   "cell_type": "markdown",
   "metadata": {},
   "source": [
    "## Probability and Perplexity\n",
    "\n",
    "Now we will calculate the probability and the perplexity of sequences\n",
    "of tokens, using the principle of \"Stupid Backoff\" as explained\n",
    "in the paper:\n",
    "\n",
    "https://aclanthology.org/D07-1090.pdf\n",
    "\n",
    "and explicated in this StackOverflow post:\n",
    "\n",
    "https://stackoverflow.com/questions/16383194/stupid-backoff-implementation-clarification\n",
    "\n",
    "Before describing \"Stupid Backoff,\" let us consider the naive way to\n",
    "calculate the probability of a sequence of tokens which starts with `<s>`. \n",
    "\n",
    "#### A simple and naive way to calculate probabilities of sequences of tokens\n",
    "\n",
    "Suppose we have a quadrigram model (N = 4), we have a sequence of tokens\n",
    "\n",
    "$$w_1, w_2, \\cdots, w_n,$$   \n",
    "\n",
    "Assume we have calculated all the N-gram\n",
    "probabilities in  `Ngram_distribution[N]` for N = 1,2,3,4.  \n",
    "\n",
    "\n",
    "We will calculate the probability of each successive token $w_i$ in as much left context as we have, up to 3 (the\n",
    "last token in the 4-gram being $w_i$). \n",
    "\n",
    "\n",
    "$$\\begin{aligned}\n",
    "        p_1 &= \\text{Ngram_distribution[1][($w_1$,)]}    \\\\   \n",
    "        p_2 &=   \\text{Ngram_distribution[2][$( w_1,w_2)$]}\\ / \\ \\text{Ngram_distribution[1][$( w_1,)$]}    \\\\              p_3 &=   \\text{Ngram_distribution[3][$( w_1,w_2,w_3)$]}\\ / \\  \\text{Ngram_distribution[2][$(\\text{'<s>'}, w_1,w_2)$]}   \\\\      \n",
    "        p_4 &=   \\text{Ngram_distribution[4][$( w_1,w_2,w_3,w_4)$]}\\ / \\  \\text{Ngram_distribution[3][$(\\text{'<s>'}, w_1,w_2,w_3)$]}   \\\\        \n",
    "            &\\ldots                             \\\\\n",
    "        p_i &=   \\text{Ngram_distribution[4][$(w_{i-3}, w_{i-2}, w_{i-1}, w_i)$]}\\ /\\  \\text{Ngram_distribution[3][$(w_{i-3}, w_{i-2}, w_{i-1})$]}   \\\\        \n",
    "                    &\\ldots                            \\\\\n",
    "        p_n &=  \\text{Ngram_distribution[4][$(w_{n-3}, w_{n-2}, w_{n-1}, w_n)$]}\\ /\\  \\text{Ngram_distribution[3][$(w_{n-3}, w_{n-2}, w_{n-1})$]}     \\\\        \n",
    "  \\end{aligned}$$\n",
    "  \n",
    "Note that if $w_1$ is `<s>`, then $p_1=1.0$. \n",
    "    \n",
    "Finally, let \n",
    "\n",
    "$$P(\\text{'<s>'}, w_1, w_2, \\cdots, w_n)\\ =\\ p_1\\ast p_2\\ast\\cdots\\ast p_n.$$\n",
    "\n",
    "One messy detail is dealing with the possibility of 0 counts (if that is possible); thus,\n",
    "if the numerator in the above expressions is 0, then the entire product is 0 (you want to avoid\n",
    "a divide by 0 error in the denominator). \n",
    "\n",
    "#### What could possibly go wrong?\n",
    "\n",
    "Well, if our sentence is from our training set, nothing!  All the probabilities will\n",
    "have been calculated for all the possible N-grams. \n",
    "\n",
    "However, when we have a separate\n",
    "training set, we have to account for the fact that **some N-grams (and even\n",
    "some tokens) may occur in the testing set which do not occur in the training set,\n",
    "and so their probability will be 0.**  However, we want to make the best estimate\n",
    "of the probability we can!\n",
    "\n",
    "There are various solutions, which we discussed in lectures 5 and 6, but the simplest\n",
    "(and very effective for large data sets) is \"Stupid Backoff,\" recursively defined as follows\n",
    "for bigrams, trigrams, and quadrigrams, and **using the probability calculations shown above.** \n",
    "\n",
    "    PN_stupid_backoff(w1) = p1   as defined above           # if this is not 0, else:\n",
    "                          = (frequency of w1 in whole corpus / number of tokens in whole corpus)\n",
    "              \n",
    "    PN_stupid_backoff(w1, w2) = p2   as defined above         # if this is not 0, else:\n",
    "                              = 0.4 * P_stupid_backoff(w2)    # recursive, use previous definition\n",
    "\n",
    "    PN_stupid_backoff(w1, w2, w3) = p3   as defined above           # if this is not 0, else:\n",
    "                                  = 0.4 * P_stupid_backoff(w2, w3)  # recursive, use definition above\n",
    "\n",
    "                       \n",
    "    PN_stupid_backoff(w1, w2, w3, w4) = p4  as defined above                 # if this is not 0, else:\n",
    "                                      = 0.4 * P_stupid_backoff(w2, w3, w4)   # recursive, previous definition\n",
    " \n",
    "This accounts for how to backoff when trying to find the probability of some $w_i$ in a left context\n",
    "of 1, 2, or 3 tokens. \n",
    "\n",
    "Then we use these calculations instead of $p_1$, $p_2$ as in the previous algorithm, for trigrams\n",
    "it would be:\n",
    "\n",
    "     P_stupid_backoff(w1, w2, w3, w4, ..., wn) =   PN_stupid_backoff(w1)\n",
    "                                                 * PN_stupid_backoff(w1, w2)\n",
    "                                                 * PN_stupid_backoff(w1, w2, w3)\n",
    "                                                 * PN_stupid_backoff(w2, w3, w4)\n",
    "                                                 ...\n",
    "                                                 * PN_stupid_backoff(w(n-2), w(n-1), wn)\n",
    "\n",
    "The \"discount factor\"\n",
    "0.4 was proposed by the originators of the method, and seems to work well in practice. \n",
    "\n",
    "This calculation is unnecessary in generative models, since then we will train on the entire\n",
    "corpus, and only use available N-grams to produce sentences."
   ]
  },
  {
   "cell_type": "markdown",
   "metadata": {},
   "source": [
    "## Problem 2\n",
    "\n",
    "Now we will calculate the probability of a sequence of tokens. We will warm up by considering\n",
    "the simple case, and then consider the more complex case, where\n",
    "\"stupid backoff\" will be used. \n",
    "\n",
    "### Part A\n",
    "\n",
    "For this part, complete the following template to create a function which will\n",
    "calculate the probability of a sequence of tokens. \n",
    "\n",
    "**Since you may want to use this in the stupid backoff version, you should make sure that if the\n",
    "numerator in the conditional probability calculation is 0, immediately return 0,\n",
    "so that there is no possibility of divide by 0 in the denominator.** \n",
    "\n",
    "Tests are provided following the cell in which you will write your code. "
   ]
  },
  {
   "cell_type": "code",
   "execution_count": 292,
   "metadata": {},
   "outputs": [],
   "source": [
    "# Probability of a list of tokens using N-grams\n",
    "\n",
    "# Calculate the probability of the last token in W, as we did in the calculation of p1, p2, etc. above\n",
    "# check numerator: if it is 0, return 0 immediately and do not do the division (to avoid possible\n",
    "# division by 0)\n",
    "\n",
    "# N == len(W)\n",
    "\n",
    "def PN(N, W):\n",
    "    # W: a list of tokens; N == len(W)\n",
    "    assert N>0, \"N must be positive.\"\n",
    "    \n",
    "    if N == 1:  # only one token\n",
    "        return Ngram_distribution[1].get((W[0],), 0)\n",
    "\n",
    "    numer = Ngram_distribution[N].get(tuple(W), 0)\n",
    "    denom = Ngram_distribution[N-1].get(tuple(W[:-1]), 0)\n",
    "    \n",
    "    if numer != 0 and denom != 0:\n",
    "        return numer/denom\n",
    "    return 0\n",
    "    \n",
    "\n",
    "# Now calculate for a whole sequence: use PN(..) for bigram, trigram, etc. up to size of\n",
    "# model, then slide PN(...) across the sequence, as shown above. \n",
    "\n",
    "\n",
    "def P(N, W):\n",
    "    assert N<=len(W), \"N cannot be greater than length of W.\"\n",
    "    \n",
    "    base = 1\n",
    "    # Pr from 1-gram to (N-1)-gram: p1, ..., p(N-1)\n",
    "    for n in range(1, N):  \n",
    "        each_prob = PN(n, W[:n])\n",
    "        if each_prob == 0:\n",
    "            return 0\n",
    "        base *= each_prob\n",
    "    \n",
    "    # N grams for slices of tokens of size N\n",
    "    for i in range(len(W)-N+1):\n",
    "        each_tuple = W[i:i+N]\n",
    "        each_prob = PN(N, each_tuple)\n",
    "        if each_prob == 0:\n",
    "            return 0\n",
    "        base *= each_prob\n",
    "    \n",
    "    return base\n"
   ]
  },
  {
   "cell_type": "markdown",
   "metadata": {},
   "source": [
    "The following are tests to make sure your code is working properly. The values printed\n",
    "should be the same. "
   ]
  },
  {
   "cell_type": "code",
   "execution_count": 293,
   "metadata": {},
   "outputs": [
    {
     "name": "stdout",
     "output_type": "stream",
     "text": [
      "a= 0.002346012148991486\n",
      "   0.002346012148991486\n",
      "b = 0.000351478118528877\n",
      "   0.000351478118528877\n",
      "c= 0.39264499316157175\n",
      "   0.39264499316157175\n",
      "d= 1.0470533150975245\n",
      "   1.0470533150975245\n",
      "\n",
      "a*b*c*d:   3.389982137368031e-07\n",
      "P(2,...):  3.389982137368031e-07\n"
     ]
    }
   ],
   "source": [
    "#  Sentence:  He frowned. \n",
    "#  Using a bigram model\n",
    "\n",
    "a = Ngram_distribution[2][('<s>','He')] \n",
    "b = Ngram_distribution[2][('He','frowned')] / Ngram_distribution[1][('He',)]\n",
    "c = Ngram_distribution[2][('frowned','.')] / Ngram_distribution[1][('frowned',)]\n",
    "d = Ngram_distribution[2][('.','</s>')] / Ngram_distribution[1][('.',)]\n",
    "\n",
    "\n",
    "print('a=', a)\n",
    "print('  ', PN(2,('<s>','He')))\n",
    "print('b =', b)\n",
    "print('  ', PN(2,('He','frowned')))\n",
    "print('c=', c)\n",
    "print('  ', PN(2,('frowned','.')))\n",
    "print('d=', d)\n",
    "print('  ', PN(2,('.','</s>')))\n",
    "\n",
    "print('\\na*b*c*d:  ',a*b*c*d)\n",
    "print('P(2,...): ', P(2,('<s>','He','frowned','.','</s>')))"
   ]
  },
  {
   "cell_type": "code",
   "execution_count": 294,
   "metadata": {},
   "outputs": [
    {
     "name": "stdout",
     "output_type": "stream",
     "text": [
      "a*b*c*d:   9.492186072583041e-07\n",
      "P(3,...):  9.492186072583041e-07\n"
     ]
    }
   ],
   "source": [
    "#  Sentence:  He frowned. \n",
    "#  Using a trigram model\n",
    "\n",
    "a = Ngram_distribution[2][('<s>','He')] \n",
    "b = Ngram_distribution[3][('<s>','He','frowned')] / Ngram_distribution[2][('<s>','He',)]\n",
    "c = Ngram_distribution[3][('He','frowned','.')] / Ngram_distribution[2][('He','frowned',)]\n",
    "d = Ngram_distribution[3][('frowned','.','</s>')] / Ngram_distribution[2][('frowned','.',)]\n",
    "\n",
    "print('a*b*c*d:  ',a*b*c*d)\n",
    "print('P(3,...): ', P(3,('<s>','He','frowned','.','</s>')))"
   ]
  },
  {
   "cell_type": "code",
   "execution_count": 295,
   "metadata": {},
   "outputs": [
    {
     "name": "stdout",
     "output_type": "stream",
     "text": [
      "a*b*c*d:   9.538640808692934e-07\n",
      "P(4,...):  9.538640808692934e-07\n"
     ]
    }
   ],
   "source": [
    "#  Sentence:  He frowned. \n",
    "#  Using a quadrigram model\n",
    "\n",
    "a = Ngram_distribution[2][('<s>','He')] \n",
    "b = Ngram_distribution[3][('<s>','He','frowned')] / Ngram_distribution[2][('<s>','He',)]\n",
    "c = Ngram_distribution[4][('<s>','He','frowned','.')] / Ngram_distribution[3][('<s>','He','frowned',)]\n",
    "d = Ngram_distribution[4][('He','frowned','.','</s>')] / Ngram_distribution[3][('He','frowned','.',)]\n",
    "\n",
    "print('a*b*c*d:  ',a*b*c*d)\n",
    "print('P(4,...): ', P(4,('<s>','He','frowned','.','</s>')))"
   ]
  },
  {
   "cell_type": "code",
   "execution_count": 296,
   "metadata": {},
   "outputs": [
    {
     "name": "stdout",
     "output_type": "stream",
     "text": [
      "a= 0.001128648701930778 \n",
      "b= 0.0015274769289326804 \n",
      "c= 0.0 \n",
      "d1= 0 \n",
      "d2= 0 \n",
      "\n",
      "a*b*d*d1:  0.0\n",
      "P(3,...):  0\n"
     ]
    }
   ],
   "source": [
    "# Sentence:  I love NLP\n",
    "# using trigrams\n",
    "\n",
    "# This shows that you should test the numerator to see if it is 0, because then\n",
    "# you can return 0 immediately, and not have the possibility of division by 0,\n",
    "# which would occur in the cases d below (c is 0 but would not cause division by 0)\n",
    "\n",
    "a  = Ngram_distribution[2][('<s>','I')] \n",
    "b  = Ngram_distribution[3][('<s>','I','love')] / Ngram_distribution[2][('<s>','I',)]\n",
    "c  = Ngram_distribution[3][('I','love','NLP')] / Ngram_distribution[2][('I','love')]\n",
    "d1 = Ngram_distribution[3][('love','NLP','</s>')] \n",
    "d2 = Ngram_distribution[2][('love','NLP')]\n",
    "\n",
    "print('a=',a,'\\nb=',b,'\\nc=',c,'\\nd1=',d1,'\\nd2=',d2,'\\n')\n",
    "\n",
    "print('a*b*d*d1: ',a*b*c*d1)\n",
    "print('P(3,...): ', P(3,('<s>','I','love','NLP','</s>')))"
   ]
  },
  {
   "cell_type": "markdown",
   "metadata": {},
   "source": [
    "### Part B\n",
    "\n",
    "Now we will develop the probability for a sequence with the possibility that some N-grams, or\n",
    "even some tokens, are not in the training set. We will use the idea of \"stupid backoff\" explained\n",
    "in lecture. \n",
    "\n",
    "Complete the following template and verify that it passes all the tests. \n"
   ]
  },
  {
   "cell_type": "code",
   "execution_count": 343,
   "metadata": {},
   "outputs": [],
   "source": [
    "# Probability with stupid backoff\n",
    "# same as previous, but have to use recursive (or iterative) method instead of \n",
    "# calling Ngram_distribution directly \n",
    "\n",
    "# W a list of tokens\n",
    "\n",
    "num_all_tokens = len(brown.words()) \n",
    "\n",
    "# This returns backed-off probability for single N-gram\n",
    "# len(W) must be N, this will try whole N-gram, then last N-1 tokens, then N-2, etc. down to 1 token.\n",
    "\n",
    "# Assumes W is a tuple\n",
    "\n",
    "# calculate for a particular length N-gram\n",
    "# must have N == len(W)\n",
    "\n",
    "def PN_with_stupid_backoff(N, W):\n",
    "    # N == len(W); W: a single N-gram\n",
    "    # a recursive method that returns backed-off probability for single N-gram\n",
    "    \n",
    "    prob = PN(N, W)\n",
    "\n",
    "    if prob > 0:\n",
    "        return prob\n",
    "\n",
    "    if N == 1:\n",
    "        return brown.words().count(W[0]) / len(brown.words()) \n",
    "\n",
    "    return 0.4 * PN_with_stupid_backoff(N-1, W[1:])\n",
    "\n",
    "\n",
    "    \n",
    "# Note that for training set, this will be same as P(N,W) since all probabilities are non-zero\n",
    "\n",
    "# Really the same as P(N,W) except using the previous function, and no need to check for 0,\n",
    "# since it never returns 0 for a sequence using words from the corpus\n",
    "\n",
    "def P_stupid_backoff(N,W):\n",
    "    # assert N<=len(W), \"N cannot be greater than length of W.\"\n",
    "    \n",
    "    base = 1\n",
    "    # Pr from 1-gram to (N-1)-gram: p1, ..., p(N-1)\n",
    "    for n in range(2, N):  \n",
    "        each_prob = PN_with_stupid_backoff(n, W[:n])\n",
    "        base *= each_prob\n",
    "    \n",
    "    # N grams for slices of tokens of size N\n",
    "    for i in range(len(W)-N+1):\n",
    "        each_tuple = W[i:i+N]\n",
    "        each_prob = PN_with_stupid_backoff(N, each_tuple)\n",
    "        base *= each_prob\n",
    "    \n",
    "    # print(f\"final probability is {base}\")\n",
    "    return base\n"
   ]
  },
  {
   "cell_type": "code",
   "execution_count": null,
   "metadata": {},
   "outputs": [],
   "source": [
    "# saved\n",
    "def PN_with_stupid_backoff(N, W):\n",
    "    # N == len(W); W: a single N-gram\n",
    "    # a recursive method that returns backed-off probability for single N-gram\n",
    "    assert N == len(W), \"N must be equal to length of W\"\n",
    "    \n",
    "    numer = Ngram_distribution[N].get(tuple(W), 0)\n",
    "    denom = Ngram_distribution[N-1].get(tuple(W[:-1]), 0) if N > 1 else 1\n",
    "\n",
    "    if numer and denom:\n",
    "        return numer/denom\n",
    "\n",
    "    if N == 1:\n",
    "        return Ngram_distribution[1].get(W, 1/num_all_tokens)\n",
    "    return 0.4 * PN_with_stupid_backoff(N-1, tuple(W[1:]))"
   ]
  },
  {
   "cell_type": "markdown",
   "metadata": {},
   "source": [
    "The following are tests to make sure your code is working properly. The values printed\n",
    "should be the same."
   ]
  },
  {
   "cell_type": "code",
   "execution_count": 298,
   "metadata": {},
   "outputs": [
    {
     "data": {
      "text/plain": [
       "0"
      ]
     },
     "execution_count": 298,
     "metadata": {},
     "output_type": "execute_result"
    }
   ],
   "source": [
    "# 'grandstand' is in testing set but not in the training set\n",
    "# This uses bigrams\n",
    "\n",
    "P(2,('<s>','where','is','the','grandstand'))"
   ]
  },
  {
   "cell_type": "code",
   "execution_count": 299,
   "metadata": {},
   "outputs": [
    {
     "name": "stdout",
     "output_type": "stream",
     "text": [
      "a = 1.6428656505542618e-06 \n",
      "b = 0.006166391726133832 \n",
      "c = 0.08182229363508187 \n",
      "d2= 0 \n",
      "d1= 0 \n",
      "d = 8.611840246918683e-07 \n",
      "\n",
      "2.855359302895301e-16\n",
      "2.855359302895301e-16\n"
     ]
    }
   ],
   "source": [
    "a = PN(2,('<s>','where'))\n",
    "b = PN(2,('where','is'))\n",
    "c = PN(2,('is','the'))\n",
    "d2 = PN(2,('the','grandstand'))     # this is 0, so use less context\n",
    "d1 = PN(1,('grandstand',))           # this is 0, so use 0.4*d instead of d2 \n",
    "d  = list(brown.words()).count('grandstand',) / len(brown.words())\n",
    "\n",
    "print('a =',a,'\\nb =',b,'\\nc =',c,'\\nd2=',d2,'\\nd1=',d1,'\\nd =',d,'\\n')\n",
    "print(a*b*c*(0.4*d))\n",
    "print(P_stupid_backoff(2,('<s>','where','is','the','grandstand')))"
   ]
  },
  {
   "cell_type": "code",
   "execution_count": 300,
   "metadata": {},
   "outputs": [
    {
     "data": {
      "text/plain": [
       "0"
      ]
     },
     "execution_count": 300,
     "metadata": {},
     "output_type": "execute_result"
    }
   ],
   "source": [
    "# 'grandstand' is in testing set but not in the training set\n",
    "# This uses trigrams\n",
    "\n",
    "P(3,('<s>','where','is','the','grandstand'))"
   ]
  },
  {
   "cell_type": "code",
   "execution_count": 301,
   "metadata": {},
   "outputs": [
    {
     "name": "stdout",
     "output_type": "stream",
     "text": [
      "a = 1.6428656505542618e-06 \n",
      "b3= 0 \n",
      "b2= 0.006166391726133832 \n",
      "c = 0.4197506600707006 \n",
      "d3= 0 \n",
      "d2= 0 \n",
      "d1= 2.3535558698860173e-06 \n",
      "d = 8.611840246918683e-07 \n",
      "\n",
      "2.3436917228933544e-16\n",
      "2.3436917228933544e-16\n"
     ]
    }
   ],
   "source": [
    "a  = PN(2,('<s>','where'))               # <= this works\n",
    "b3 = PN(3,('<s>','where','is'))         # this is 0, so try less context\n",
    "b2 = PN(2,('where','is'))               # <= this works\n",
    "c  = PN(3,('where','is','the'))          # <= this works\n",
    "\n",
    "d3 = PN(3,('is','the','grandstand'))    # this is 0, so try less context\n",
    "d2 = PN(2,('the','grandstand'))         # this is 0, so try less context\n",
    "d1 = PN(1,('grandstand'))               # this is 0, so use probability in whole corpus\n",
    "d  = list(brown.words()).count('grandstand') / len(brown.words())     # <= this works\n",
    "\n",
    "print('a =',a,'\\nb3=',b3,'\\nb2=',b2,'\\nc =',c,'\\nd3=',d3,'\\nd2=',d2,'\\nd1=',d1,'\\nd =',d,'\\n')\n",
    "\n",
    "# every time we try less context, must multiply by 0.4, so we \n",
    "# use 0.4*b2 instead of b3 and 0.4*0.4*e instead of d3\n",
    "print(a*(0.4*b2)*c*(0.4*0.4*d))\n",
    "print(P_stupid_backoff(3,('<s>','where','is','the','grandstand')))"
   ]
  },
  {
   "cell_type": "code",
   "execution_count": 302,
   "metadata": {},
   "outputs": [
    {
     "name": "stdout",
     "output_type": "stream",
     "text": [
      "a = 0.005372992110137713 \n",
      "b3= 0 \n",
      "b2= 0 \n",
      "b1= 0 \n",
      "b = 8.611840246918683e-07\n",
      "c3= 0 \n",
      "c2= 0 \n",
      "c1= 7.21757133431712e-05 \n",
      "d3= 0 \n",
      "d2= 0.01138101429453831 \n",
      "e3= 0 \n",
      "e2= 0.0011817757506744071 \n",
      "\n",
      "1.839836556015632e-20\n",
      "1.839836556015632e-20\n"
     ]
    }
   ],
   "source": [
    "a  = PN(2,('<s>','The'))                   #   <= this works\n",
    "\n",
    "b3 = PN(3,('<s>','The','grandstand'))      # this is 0, so try less context (smaller N)\n",
    "b2 = PN(2,('The','grandstand'))            # this is 0, so try less context    \n",
    "b1 = PN(1,('grandstand',))                 # this is 0, so have to use frequency in whole corpus  \n",
    "b  = list(brown.words()).count('grandstand') / len(brown.words())    #   <= this works  \n",
    "\n",
    "c3 = PN(3,('The','grandstand','fell'))     # this is 0, so try less context\n",
    "c2 = PN(2,('grandstand','fell'))           # this is 0, so try less context\n",
    "c1 = PN(1,('fell',))                       # ok, this works\n",
    "\n",
    "d3 = PN(3,('grandstand','fell','down'))   # this is 0, so try less context\n",
    "d2 = PN(2,('fell','down'))                #   <= this works \n",
    "\n",
    "e3 = PN(3,('fell','down','</s>'))         # this is 0, so try less context\n",
    "e2 = PN(2,('down','</s>'))                #  <= this works\n",
    "\n",
    "# every time we tried a smaller N, we have to multiply by 0.4\n",
    "# so we use a, then 0.4*0.4*b0, then 0.4*0.4*c1, then 0.4*d2, then 0.4*e2e. \n",
    "\n",
    "print('a =',a,'\\nb3=',b3,'\\nb2=',b2,'\\nb1=',b1,'\\nb =',b)\n",
    "print('c3=',c3,'\\nc2=',c2,'\\nc1=',c1,'\\nd3=',d3,'\\nd2=',d2,'\\ne3=',e3,'\\ne2=',e2,'\\n')\n",
    "\n",
    "print(a * (0.4*0.4*b) * (0.4*0.4*c1) * (0.4*d2) * (0.4*e2) )\n",
    "print(P_stupid_backoff(3,('<s>','The','grandstand','fell','down','</s>')))"
   ]
  },
  {
   "cell_type": "markdown",
   "metadata": {},
   "source": [
    "### Part C\n",
    "\n",
    "Now we will implement the notion of *perplexity* as explained in lecture. Refer to\n",
    "the formula presented there to complete the following template, and verify\n",
    "that it passes all the tests. "
   ]
  },
  {
   "cell_type": "code",
   "execution_count": 325,
   "metadata": {},
   "outputs": [],
   "source": [
    "# Perplexity\n",
    "\n",
    "# We assume that W starts with <s>, may not end with </s>\n",
    "\n",
    "def PP(N,W):\n",
    "    prob_not_normalized = P_stupid_backoff(N, W)\n",
    "    print(f\"unnormalized pr is {prob_not_normalized}\")\n",
    "\n",
    "    N = len(W)\n",
    "    \n",
    "    perplexity = pow(prob_not_normalized, -1/(N-1))  # assume that W starts with <s> \n",
    "    '''\n",
    "    used chatGPT here to help me debug\n",
    "    (prob_not_normalized ** -1/(N-1)) vs. pow(prob_not_normalized, -1/(N-1))\n",
    "    in regards of floating point number handling of python\n",
    "    and also: https://stackoverflow.com/questions/20969773/exponentials-in-python-xy-vs-math-powx-y\n",
    "    '''\n",
    "    \n",
    "    return perplexity\n"
   ]
  },
  {
   "cell_type": "markdown",
   "metadata": {},
   "source": [
    "If we know that no probabilities can be 0,  then P is same as P_stupid_backoff"
   ]
  },
  {
   "cell_type": "code",
   "execution_count": 304,
   "metadata": {},
   "outputs": [
    {
     "name": "stdout",
     "output_type": "stream",
     "text": [
      "unnormalized pr is 0.005372992110137713\n"
     ]
    },
    {
     "data": {
      "text/plain": [
       "186.11603730316466"
      ]
     },
     "execution_count": 304,
     "metadata": {},
     "output_type": "execute_result"
    }
   ],
   "source": [
    "PP(2,('<s>','The'))"
   ]
  },
  {
   "cell_type": "code",
   "execution_count": 305,
   "metadata": {},
   "outputs": [
    {
     "data": {
      "text/plain": [
       "186.11603730316466"
      ]
     },
     "execution_count": 305,
     "metadata": {},
     "output_type": "execute_result"
    }
   ],
   "source": [
    "P(2,('<s>','The'))**(-1/1)"
   ]
  },
  {
   "cell_type": "code",
   "execution_count": 306,
   "metadata": {},
   "outputs": [
    {
     "data": {
      "text/plain": [
       "186.11603730316466"
      ]
     },
     "execution_count": 306,
     "metadata": {},
     "output_type": "execute_result"
    }
   ],
   "source": [
    "P_stupid_backoff(2,('<s>','The'))**(-1/1)"
   ]
  },
  {
   "cell_type": "code",
   "execution_count": 307,
   "metadata": {},
   "outputs": [
    {
     "name": "stdout",
     "output_type": "stream",
     "text": [
      "unnormalized pr is 3.3923249973453404e-08\n"
     ]
    },
    {
     "data": {
      "text/plain": [
       "308.91157551766736"
      ]
     },
     "execution_count": 307,
     "metadata": {},
     "output_type": "execute_result"
    }
   ],
   "source": [
    "PP(2,('<s>','The','man','went'))"
   ]
  },
  {
   "cell_type": "code",
   "execution_count": 308,
   "metadata": {},
   "outputs": [
    {
     "data": {
      "text/plain": [
       "308.91157551766736"
      ]
     },
     "execution_count": 308,
     "metadata": {},
     "output_type": "execute_result"
    }
   ],
   "source": [
    "P(2,('<s>','The','man','went'))**(-1/3)"
   ]
  },
  {
   "cell_type": "code",
   "execution_count": 309,
   "metadata": {},
   "outputs": [
    {
     "data": {
      "text/plain": [
       "308.91157551766736"
      ]
     },
     "execution_count": 309,
     "metadata": {},
     "output_type": "execute_result"
    }
   ],
   "source": [
    "P_stupid_backoff(2,('<s>','The','man','went'))**(-1/3)"
   ]
  },
  {
   "cell_type": "code",
   "execution_count": 310,
   "metadata": {},
   "outputs": [
    {
     "name": "stdout",
     "output_type": "stream",
     "text": [
      "unnormalized pr is 4.401857289920249e-13\n"
     ]
    },
    {
     "data": {
      "text/plain": [
       "35.03849995731908"
      ]
     },
     "execution_count": 310,
     "metadata": {},
     "output_type": "execute_result"
    }
   ],
   "source": [
    "PP(2,('<s>','The','man','went','to','the', 'house','.','</s>'))"
   ]
  },
  {
   "cell_type": "code",
   "execution_count": 311,
   "metadata": {},
   "outputs": [
    {
     "data": {
      "text/plain": [
       "35.03849995731908"
      ]
     },
     "execution_count": 311,
     "metadata": {},
     "output_type": "execute_result"
    }
   ],
   "source": [
    "P(2,('<s>','The','man','went','to','the', 'house','.','</s>'))**(-1/8)"
   ]
  },
  {
   "cell_type": "code",
   "execution_count": 312,
   "metadata": {},
   "outputs": [
    {
     "data": {
      "text/plain": [
       "35.03849995731908"
      ]
     },
     "execution_count": 312,
     "metadata": {},
     "output_type": "execute_result"
    }
   ],
   "source": [
    "P_stupid_backoff(2,('<s>','The','man','went','to','the', 'house','.','</s>'))**(-1/8)"
   ]
  },
  {
   "cell_type": "markdown",
   "metadata": {},
   "source": [
    "When probabilities may be 0, we must use stupid backoff"
   ]
  },
  {
   "cell_type": "code",
   "execution_count": 313,
   "metadata": {},
   "outputs": [
    {
     "name": "stdout",
     "output_type": "stream",
     "text": [
      "unnormalized pr is 2.855359302895301e-16\n"
     ]
    },
    {
     "data": {
      "text/plain": [
       "7692.8065013245405"
      ]
     },
     "execution_count": 313,
     "metadata": {},
     "output_type": "execute_result"
    }
   ],
   "source": [
    "PP(2,('<s>','where','is','the','grandstand'))"
   ]
  },
  {
   "cell_type": "code",
   "execution_count": 314,
   "metadata": {},
   "outputs": [
    {
     "data": {
      "text/plain": [
       "7692.8065013245405"
      ]
     },
     "execution_count": 314,
     "metadata": {},
     "output_type": "execute_result"
    }
   ],
   "source": [
    "P_stupid_backoff(2,('<s>','where','is','the','grandstand'))**(-1/4)"
   ]
  },
  {
   "cell_type": "code",
   "execution_count": 315,
   "metadata": {},
   "outputs": [
    {
     "name": "stdout",
     "output_type": "stream",
     "text": [
      "unnormalized pr is 2.3436917228933544e-16\n"
     ]
    },
    {
     "data": {
      "text/plain": [
       "8082.112259400884"
      ]
     },
     "execution_count": 315,
     "metadata": {},
     "output_type": "execute_result"
    }
   ],
   "source": [
    "PP(3,('<s>','where','is','the','grandstand'))"
   ]
  },
  {
   "cell_type": "code",
   "execution_count": 316,
   "metadata": {},
   "outputs": [
    {
     "data": {
      "text/plain": [
       "8082.112259400884"
      ]
     },
     "execution_count": 316,
     "metadata": {},
     "output_type": "execute_result"
    }
   ],
   "source": [
    "P_stupid_backoff(3,('<s>','where','is','the','grandstand'))**(-1/4)"
   ]
  },
  {
   "cell_type": "code",
   "execution_count": 317,
   "metadata": {},
   "outputs": [
    {
     "name": "stdout",
     "output_type": "stream",
     "text": [
      "unnormalized pr is 1.839836556015632e-20\n"
     ]
    },
    {
     "data": {
      "text/plain": [
       "8852.055970670379"
      ]
     },
     "execution_count": 317,
     "metadata": {},
     "output_type": "execute_result"
    }
   ],
   "source": [
    "PP(3,('<s>','The','grandstand','fell','down','</s>'))"
   ]
  },
  {
   "cell_type": "code",
   "execution_count": 318,
   "metadata": {},
   "outputs": [
    {
     "data": {
      "text/plain": [
       "8852.055970670379"
      ]
     },
     "execution_count": 318,
     "metadata": {},
     "output_type": "execute_result"
    }
   ],
   "source": [
    "P_stupid_backoff(3,('<s>','The','grandstand','fell','down','</s>'))**(-1/5)"
   ]
  },
  {
   "cell_type": "code",
   "execution_count": 319,
   "metadata": {},
   "outputs": [
    {
     "name": "stdout",
     "output_type": "stream",
     "text": [
      "unnormalized pr is 1.1774953958500048e-21\n"
     ]
    },
    {
     "data": {
      "text/plain": [
       "15339.392368477242"
      ]
     },
     "execution_count": 319,
     "metadata": {},
     "output_type": "execute_result"
    }
   ],
   "source": [
    "PP(4,('<s>','The','grandstand','fell','down','</s>'))"
   ]
  },
  {
   "cell_type": "code",
   "execution_count": 320,
   "metadata": {},
   "outputs": [
    {
     "data": {
      "text/plain": [
       "15339.392368477242"
      ]
     },
     "execution_count": 320,
     "metadata": {},
     "output_type": "execute_result"
    }
   ],
   "source": [
    "P_stupid_backoff(4,('<s>','The','grandstand','fell','down','</s>'))**(-1/5)"
   ]
  },
  {
   "cell_type": "markdown",
   "metadata": {},
   "source": [
    "### Part D\n",
    "\n",
    "Print out the first ten sentences in the training set, with their perplexities to 2 decimal places, using trigrams.  Then do the\n",
    "same for the testing set. \n",
    "\n",
    "Print out the text of the sentences in a readable form, e.g., for a sentence `w`, print it out using\n",
    "\n",
    "    ' '.join(w[1:-1)\n",
    "    \n",
    "    \n",
    "Notice the perplexities of the training set are generally smaller than the testing set!"
   ]
  },
  {
   "cell_type": "code",
   "execution_count": 321,
   "metadata": {
    "scrolled": false
   },
   "outputs": [
    {
     "name": "stdout",
     "output_type": "stream",
     "text": [
      "unnormalized pr is 2.6776408392894215e-19\n",
      "[1] Muscle weakness did not improve , and the patient needed first a cane , then crutches .\n",
      "Perplexity: 10.76\n",
      "\n",
      "unnormalized pr is 1.7995728627929014e-25\n",
      "[2] He replaced the flashlight where it had been stowed , got into his own car and backed it out of the garage .\n",
      "Perplexity: 10.74\n",
      "\n",
      "unnormalized pr is 1.8174843330080426e-53\n",
      "[3] When he had given the call a few moments thought , he went into the kitchen to ask Mrs. Yamata to prepare tea and sushi for the visitors , using the formal English china and the silver tea service which had been donated to the mission , then he went outside to inspect the grounds .\n",
      "Perplexity: 8.42\n",
      "\n",
      "unnormalized pr is 7.576209061206683e-63\n",
      "[4] -- On the basis of a differentiability assumption in function space , it is possible to prove that , for materials having the property that the stress is given by a functional of the history of the deformation gradients , the classical theory of infinitesimal viscoelasticity is valid when the deformation has been infinitesimal for all times in the past .\n",
      "Perplexity: 10.04\n",
      "\n",
      "unnormalized pr is 5.5388151774745665e-09\n",
      "[5] She said sharks have no bones and shrimp swam backward .\n",
      "Perplexity: 4.88\n",
      "\n",
      "unnormalized pr is 2.817712069632965e-27\n",
      "[6] T. V. Barker , who developed the classification-angle system , was about to begin the systematic compilation of the index when he died in 1931 .\n",
      "Perplexity: 9.62\n",
      "\n",
      "unnormalized pr is 7.793525348269414e-09\n",
      "[7] He was then in man's hands .\n",
      "Perplexity: 10.32\n",
      "\n",
      "unnormalized pr is 2.8945751201105465e-05\n",
      "[8] 4 .\n",
      "Perplexity: 32.57\n",
      "\n",
      "unnormalized pr is 2.9017909506161495e-10\n",
      "[9] `` Fifteen minutes , then ! !\n",
      "Perplexity: 15.57\n",
      "\n",
      "unnormalized pr is 1.0382352039112117e-20\n",
      "[10] Thus the cocktail party would appear to be the ideal system , but there is one weakness .\n",
      "Perplexity: 11.27\n",
      "\n"
     ]
    }
   ],
   "source": [
    "# first 10 sents in training data, .2f perplexities, N=3\n",
    "import re\n",
    "for i in range(10):\n",
    "    sent = train_markers_added[i]\n",
    "    perplex = PP(3, sent)\n",
    "    sent_to_print = ' '.join(sent[1:-1])\n",
    "    print(f\"[{i+1}] {sent_to_print}\\nPerplexity: {perplex:.2f}\\n\")"
   ]
  },
  {
   "cell_type": "code",
   "execution_count": 334,
   "metadata": {},
   "outputs": [
    {
     "name": "stdout",
     "output_type": "stream",
     "text": [
      "unnormalized pr is 2.1514445098661873e-47\n",
      "[1] It is at least as important as the more dramatic attempts to break down barriers of inequality in the South .\n",
      "Perplexity: 215.46\n",
      "\n",
      "unnormalized pr is 5.763932045997189e-56\n",
      "[2] the car's far windshield panel turned into a silver web with a dark hole in the center .\n",
      "Perplexity: 1775.70\n",
      "\n",
      "unnormalized pr is 1.0242617660756136e-18\n",
      "[3] `` I was just thinking how things have changed .\n",
      "Perplexity: 99.73\n",
      "\n",
      "unnormalized pr is 4.513785190252695e-43\n",
      "[4] She smiled , and the teeth gleamed in her beautifully modeled olive face .\n",
      "Perplexity: 1808.60\n",
      "\n",
      "unnormalized pr is 2.0928294474577326e-35\n",
      "[5] `` There isn't a chance of Myra's letting anything like that happen .\n",
      "Perplexity: 776.14\n",
      "\n",
      "unnormalized pr is 8.049929993566162e-96\n",
      "[6] On the other hand , many a pastor is so absorbed in ministering to the intimate , personal needs of individuals in his congregation that he does little or nothing to lead them into a sense of social responsibility and world mission .\n",
      "Perplexity: 183.72\n",
      "\n",
      "unnormalized pr is 8.751588919085126e-24\n",
      "[7] We live down by the Base commissary .\n",
      "Perplexity: 1967.83\n",
      "\n",
      "unnormalized pr is 1.0315295626773937e-80\n",
      "[8] For example , the BBB has reported it was receiving four times as many inquiries about quack devices and 10 times as many complaints compared with two years ago .\n",
      "Perplexity: 573.00\n",
      "\n",
      "unnormalized pr is 2.4449106550837164e-29\n",
      "[9] As a result , life had become a kind of continuous make-ready .\n",
      "Perplexity: 242.28\n",
      "\n",
      "unnormalized pr is 1.8083086767545365e-36\n",
      "[10] Some of the poems express a mood of joy in a newly discovered love ; ;\n",
      "Perplexity: 241.46\n",
      "\n"
     ]
    }
   ],
   "source": [
    "# first 10 sents in testing data, .2f perplexities, N=3\n",
    "for i in range(10):\n",
    "    sent = test[i]\n",
    "    perplex = PP(3, sent)\n",
    "    sent_to_print = ' '.join(sent)\n",
    "    print(f\"[{i+1}] {sent_to_print}\\nPerplexity: {perplex:.2f}\\n\")"
   ]
  },
  {
   "cell_type": "markdown",
   "metadata": {},
   "source": [
    "### Part E\n",
    "\n",
    "Finally, we will find the perplexities of the the testing set with bigrams, trigrams, and quadrigrams. \n",
    "Complete the following template to verify that your results are consistent with the test results. "
   ]
  },
  {
   "cell_type": "code",
   "execution_count": 340,
   "metadata": {
    "scrolled": false
   },
   "outputs": [],
   "source": [
    "# Find all the probabilities of the sentences in the testing set, multiply them,\n",
    "# and take the $K^{th}$ root, where K is the number of tokens, excluding the <s> tokens. \n",
    "# So, K = (sum of length of sentences) - (# of sentences)\n",
    "\n",
    "# We need to take the product of many small probabilities, so use math.log and math.exp to avoid\n",
    "# underflow. \n",
    "\n",
    "# Print out the perplexity as an integer. \n",
    "\n",
    "import math\n",
    "\n",
    "def all_perplexity(N, W):\n",
    "\n",
    "    total_log_prob = 0\n",
    "    num_wrds = sum([len(w) for w in W])\n",
    "    K = num_wrds - len(W)\n",
    "    # total number of words in all sentences, but subtracts one word <s> for each sentence\n",
    "    \n",
    "    for w in W:\n",
    "        each_prob = P_stupid_backoff(N, w)\n",
    "    \n",
    "        if each_prob <= 0:\n",
    "            each_prob = 1e-10  # make sure no log(0)\n",
    "        \n",
    "        total_log_prob += math.log(each_prob)\n",
    "\n",
    "    perplexity = math.exp(-total_log_prob/K)\n",
    "    \n",
    "    return perplexity"
   ]
  },
  {
   "cell_type": "code",
   "execution_count": null,
   "metadata": {},
   "outputs": [],
   "source": [
    "for i in range(2,5):\n",
    "    print(f\"The perplexity of the testing set for {i}-grams is {all_perplexity(i, test)}\")"
   ]
  },
  {
   "cell_type": "markdown",
   "metadata": {},
   "source": [
    "## Problem 3: Generative N-Gram Model\n",
    "\n",
    "\n",
    "Now we will consider how to generate sentences using our N-gram model. \n",
    "\n",
    "\n",
    "The idea is fairly simple.  Suppose we have model using N=4 (quadrigrams -- the algorithm for bigrams and trigrams \n",
    "is analogous):\n",
    "\n",
    "1. To get $w_1$, choose a bigram $(\\text{\"<s>\"}, w_1)$ randomly according the probability distribution stored in \n",
    "\n",
    "$$\\text{Ngram_distribution[2][ $(\\text{\"<s>\"}, w_1)$ ]}.$$ \n",
    "\n",
    "2. To get $w_2$, choose a bigram $(\\text{\"<s>\"}, w_1, w_2)$ randomly according the probability distribution calculated as\n",
    "\n",
    "$$\\text{Ngram_distribution[3][ $(\\text{\"<s>\"},w_1,w_2)$ ]}\\ /\\ \\text{Ngram_distribution[2][ $(\\text{\"<s>\"},w_1)$ ]}.$$ \n",
    "\n",
    "3. To get $w_3$, choose a trigram $(\\text{\"<s>\"}, w_1, w_2, w_3)$ randomly according the probability distribution calculated as\n",
    "\n",
    "$$\\text{Ngram_distribution[4][ $(\\text{\"<s>\"},w_1,w_2, w_3)$ ]}\\ /\\ \\text{Ngram_distribution[3][ $(\\text{\"<s>\"},w_1,w_2)$ ]}.$$ \n",
    "\n",
    "4. Thereafter, for a sequence $(\\text{\"<s>\"}, w_1, w_2, \\ldots, w_{i-2}, w_{i-1})$, to get $w_i$, choose a \n",
    "quadrigram $(w_{i-3}, w_{i-2}, w_{i-1}, w_i)$ randomly according the probability distribution stored in \n",
    "\n",
    "$$\\text{Ngram_distribution[4][ $(w_{i-3}, w_{i-2}, w_{i-1},w_i)$ ]}\\ /\\ \\text{Ngram_distribution[3][ $(w_{i-3}, w_{i-2},w_{i-1})$ ]}.$$ \n",
    "\n",
    "5. When we generate the end of sentence marker `<\\s>` we stop. \n",
    "\n",
    "The problem is that this is difficult if we simply use the formulae given above: what we need is\n",
    "a separate probability distribution for each prefix. "
   ]
  },
  {
   "cell_type": "markdown",
   "metadata": {},
   "source": [
    "### Part A\n",
    "\n",
    "The first step, under the assumption that we are working with N-grams for N = 1,2,3, or 4, is to build a data structure that can sample from the distribution of next tokens\n",
    "given an (N-1)-gram of left context. \n",
    "\n",
    "The best choice here is a nested default dictionary for N-grams for N = 2,3,4, the outer dictionary containing\n",
    "keys consisting of the first N-1 tokens (we'll call this the *prefix*), with the value being an inner dictionary holding a probability distribution for the last token (we'll call this *wn*). \n",
    "\n",
    "For this problem, you need to redo the construction of the list of N-grams and the distributions for \n",
    "each N, using the *entire* set of sentences, not just the testing set you used for the previous problems. \n",
    "You can easily do this by copying and pasting code from above. \n"
   ]
  },
  {
   "cell_type": "code",
   "execution_count": 113,
   "metadata": {},
   "outputs": [],
   "source": [
    "from collections import defaultdict\n",
    "\n",
    "All_Ngrams = [None] + [[] for _ in range(4)]\n",
    "\n",
    "shuffled_sents_markers = [['<s>'] + s + ['</s>'] for s in shuffled_sentences]\n",
    "\n",
    "for i in range(1,5):\n",
    "    for s in shuffled_sents_markers:  # shuffled_sents_markers: set of all sentences\n",
    "        All_Ngrams[i] += get_Ngrams_for_sentence(i, s)\n",
    "        \n",
    "all_num_ngrams = [None] + [len(All_Ngrams[i]) for i in range(1,5)]\n",
    "\n",
    "All_Ngram_distribution = [None]\n",
    "\n",
    "for i in range(1,5):\n",
    "    dtb = defaultdict(int)\n",
    "    for ngram in All_Ngrams[i]: # frequency distribution\n",
    "        dtb[ngram] += 1\n",
    "    for k in dtb: # normalize freq to get prob\n",
    "        dtb[k] /= all_num_ngrams[i]\n",
    "    All_Ngram_distribution.append(dtb)\n",
    "\n",
    "All_Ngram_distribution[1][('<s>',)] = 1.0"
   ]
  },
  {
   "cell_type": "markdown",
   "metadata": {},
   "source": [
    "### Part B\n",
    "\n",
    "Now we must build a data structure to solve the following problem: If we are working in \n",
    "an N-gram model for N = 2, 3, or 4, given a sequence of tokens \n",
    "\n",
    "$$ <s>\\ w_1\\ w_2\\ w_3\\ \\cdots w_i$$\n",
    "\n",
    "generate a sample word $w_{i+1}$ using the distribution of the N-grams of the form\n",
    "\n",
    "$$ w_{i-N+1}\\ \\cdots w_{i-1}\\ w_{i}\\  w_{i+1}.$$\n",
    "\n",
    "In other words, we use the last $N-1$ tokens of the sequence to determine a likely\n",
    "next token, given the distribution of N-grams starting with those $N-1$ tokens. \n",
    "\n",
    "The best way to do this is to build a nested dictionary. Let us call the first $N-1$ tokens\n",
    "in an N-gram the *prefix* and the last token $wn$. Then the outer dictionary\n",
    "is a `defaultdict` whose keys are the prefixes and values are an inner `defaultdict` \n",
    "whose keys are the $wn$ and whose values form a probability distribution for\n",
    "the ways that the prefix can be completed with a token $wn$. \n",
    "\n",
    "To give a simple example, suppose that in our corpus there are only the following bigrams whose\n",
    "first token is 'the':\n",
    "\n",
    "    ('the','boy'),    ('the','baby'),     ('the','baby'),    ('the','man')\n",
    "    \n",
    "Then our outer dictionary would have the prefix\n",
    "\n",
    "    ('the',)\n",
    "    \n",
    "as a key, and the inner dictionary would store the probability that each of 'boy', 'baby', and 'man'\n",
    "would follow 'the', as shown in the next code cell. \n",
    "\n",
    "Note that the prefix is an N-gram (a tuple) and $wn$ is simply a token. "
   ]
  },
  {
   "cell_type": "code",
   "execution_count": 92,
   "metadata": {},
   "outputs": [
    {
     "data": {
      "text/plain": [
       "defaultdict(<function __main__.<lambda>()>,\n",
       "            {('the',): defaultdict(<function __main__.<lambda>()>,\n",
       "                         {'boy': 0.25, 'man': 0.25, 'baby': 0.5})})"
      ]
     },
     "execution_count": 92,
     "metadata": {},
     "output_type": "execute_result"
    }
   ],
   "source": [
    "D = defaultdict(lambda: None)\n",
    "\n",
    "D[('the',)] = defaultdict(lambda: 0)\n",
    "D[('the',)]['boy'] = 0.25\n",
    "D[('the',)]['man'] = 0.25\n",
    "D[('the',)]['baby'] = 0.5\n",
    "\n",
    "D"
   ]
  },
  {
   "cell_type": "markdown",
   "metadata": {},
   "source": [
    "Your task is to complete the following template and build a nested default dictionary giving\n",
    "the probability distributions for completions for (N-1)-grams. \n",
    "\n",
    "Hint:  For each N, you must create a `defaultdict` for all N-grams, whose key\n",
    "is the prefix and whose values are an inner `defaultdict`. For each N-gram,\n",
    "you should store the probability of the N-gram prefix+wn under the key $wn$.\n",
    "Then you must normalize these probabilities so that their sum is 1.0. \n",
    "\n",
    "The end result will be that if you look up a prefix (N-1 tokens), you will\n",
    "have a probability distribution of possible $wn$ which can be used for\n",
    "the next token. "
   ]
  },
  {
   "cell_type": "code",
   "execution_count": 149,
   "metadata": {},
   "outputs": [],
   "source": [
    "# now build a dictionary of lists of completions, with probabilities \n",
    "# For N-gram, key is prefix, of length N-1, which returns a dictionary\n",
    "# with keys that are tokens (the last token wn in the N-gram), with\n",
    "# values the number of times that N-gram (prefix),wn occurs.  \n",
    " \n",
    "# N here is the length of the whole N-gram, so the prefix is of length N-1\n",
    "\n",
    "def get_Ngram_dict(N):\n",
    "    prefix_dict = defaultdict(lambda: defaultdict(float))\n",
    "\n",
    "    for ngram, prob in All_Ngram_distribution[N].items():\n",
    "        prefix = ngram[:-1]\n",
    "        wn = ngram[-1]\n",
    "        prefix_dict[prefix][wn] = prob\n",
    "        \n",
    "    for prefix, next_dict in prefix_dict.items():\n",
    "        sum_prob = sum(next_dict.values())\n",
    "        for w, prob in next_dict.items():\n",
    "            prefix_dict[prefix][w] = prob / sum_prob\n",
    "            # normalize to ensure the sum of probs for all potential next words given the prefix is 1\n",
    "\n",
    "    return prefix_dict\n",
    "\n",
    "Ngram_nested_dict = [None]*5\n",
    "\n",
    "for n in range(1,5):  # Also include unigrams for completeness\n",
    "    Ngram_nested_dict[n] = get_Ngram_dict(n)\n"
   ]
  },
  {
   "cell_type": "code",
   "execution_count": 150,
   "metadata": {},
   "outputs": [
    {
     "data": {
      "text/plain": [
       "1.0000000000002396"
      ]
     },
     "execution_count": 150,
     "metadata": {},
     "output_type": "execute_result"
    }
   ],
   "source": [
    "# tests: these should sum to (close to) 1.0\n",
    "\n",
    "sum(Ngram_nested_dict[2][('<s>',)].values())"
   ]
  },
  {
   "cell_type": "code",
   "execution_count": 151,
   "metadata": {},
   "outputs": [
    {
     "data": {
      "text/plain": [
       "0.9999999999999709"
      ]
     },
     "execution_count": 151,
     "metadata": {},
     "output_type": "execute_result"
    }
   ],
   "source": [
    "sum(Ngram_nested_dict[3][('<s>','The')].values())"
   ]
  },
  {
   "cell_type": "code",
   "execution_count": 152,
   "metadata": {},
   "outputs": [
    {
     "data": {
      "text/plain": [
       "1.0000000000000013"
      ]
     },
     "execution_count": 152,
     "metadata": {},
     "output_type": "execute_result"
    }
   ],
   "source": [
    "sum(Ngram_nested_dict[4][('<s>','When', 'the')].values())"
   ]
  },
  {
   "cell_type": "markdown",
   "metadata": {},
   "source": [
    "### Part C\n",
    "\n",
    "Now that we have a way of sampling the next likely word, we will write\n",
    "a function which will predict the next word. You must sample from the\n",
    "probability distribution given a prefix, to choose a likely next word.\n",
    "\n",
    "Hint:  read about `numpy.random.choice`, in particular how you can set the parameter `p`\n",
    "to determine the probability of selecting a given key from the dictionary. "
   ]
  },
  {
   "cell_type": "code",
   "execution_count": 153,
   "metadata": {
    "scrolled": false
   },
   "outputs": [],
   "source": [
    "# given a prefix, randomly choose next token using the appropriate probability distribution\n",
    "\n",
    "#  len(prefix) must be 1, 2, 3, or 4\n",
    "\n",
    "def next_word(prefix):\n",
    "    N = len(prefix) + 1 \n",
    "    # given a prefix of length x, \n",
    "    # we want to get the distribution of n-grams with token of length x+1\n",
    "    \n",
    "    assert prefix in Ngram_nested_dict[N], \"prefix must be in the data\"\n",
    "    \n",
    "    next_words = list(Ngram_nested_dict[N][prefix].keys()) # list of next probable word\n",
    "    probs = list(Ngram_nested_dict[N][prefix].values()) # list of corresponding probs\n",
    "    \n",
    "    probs_normalized = [prob / sum(probs) for prob in probs]\n",
    "    \n",
    "    word_to_choose = np.random.choice(next_words, p=probs_normalized)\n",
    "    \n",
    "    return word_to_choose"
   ]
  },
  {
   "cell_type": "code",
   "execution_count": 172,
   "metadata": {},
   "outputs": [
    {
     "data": {
      "text/plain": [
       "'The'"
      ]
     },
     "execution_count": 172,
     "metadata": {},
     "output_type": "execute_result"
    }
   ],
   "source": [
    "# tests\n",
    "\n",
    "next_word(('<s>',))"
   ]
  },
  {
   "cell_type": "code",
   "execution_count": 170,
   "metadata": {},
   "outputs": [
    {
     "data": {
      "text/plain": [
       "'student'"
      ]
     },
     "execution_count": 170,
     "metadata": {},
     "output_type": "execute_result"
    }
   ],
   "source": [
    "next_word(('<s>','The'))"
   ]
  },
  {
   "cell_type": "code",
   "execution_count": 167,
   "metadata": {},
   "outputs": [
    {
     "data": {
      "text/plain": [
       "'was'"
      ]
     },
     "execution_count": 167,
     "metadata": {},
     "output_type": "execute_result"
    }
   ],
   "source": [
    "next_word(('<s>','The','man'))"
   ]
  },
  {
   "cell_type": "markdown",
   "metadata": {},
   "source": [
    "### Part D\n",
    "\n",
    "Complete the following template to generate a random sentence by starting with\n",
    "the unigram `('<s>',)` and extending it by sampling until you generate the token `</s>`. "
   ]
  },
  {
   "cell_type": "code",
   "execution_count": 345,
   "metadata": {
    "scrolled": true
   },
   "outputs": [],
   "source": [
    "# N is the parameter in N-gram\n",
    "\n",
    "def generate_sentence(N):\n",
    "    sent = ['<s>'] # starts with the unigram ('<s>',)\n",
    "\n",
    "    while 1:\n",
    "        prefix = tuple(sent[-(N-1):])\n",
    "        word = next_word(prefix)\n",
    "        sent.append(word)\n",
    "        if word == '</s>':\n",
    "            break\n",
    "\n",
    "    return sent"
   ]
  },
  {
   "cell_type": "code",
   "execution_count": 352,
   "metadata": {},
   "outputs": [
    {
     "name": "stdout",
     "output_type": "stream",
     "text": [
      "unnormalized pr is 4.5147377960729765e-72\n",
      "84.77 that God through small business with a little extra work at the commerce '' pas de l'Independance ) Baldwin Longstreet and squash keep the Descent were organized whole sera , designed to straight to ! ! \n",
      "\n",
      "\n",
      "unnormalized pr is 9.425272445774055e-12\n",
      "5.43 She thought royal status might come easy to go home by bus ? ? \n",
      "\n",
      "\n",
      "unnormalized pr is 6.708535219504624e-40\n",
      "6.82 Mike struck with the peripheral resolution losses resulting with a girl about ten days were at work she was three parts , it can claim this promise tendered by the National Defense , Charles Hitch , who was `` dead game sport '' in diameter . \n",
      "\n",
      "\n"
     ]
    }
   ],
   "source": [
    "# tests  -- run this cell many times!\n",
    "w1 = generate_sentence(2)\n",
    "print(np.around(PP(2,w1),2), ' '.join(w1[1:-1]),'\\n\\n')\n",
    "w2 = generate_sentence(3)\n",
    "print(np.around(PP(3,w2),2), ' '.join(w2[1:-1]),'\\n\\n')\n",
    "w2 = generate_sentence(3)\n",
    "print(np.around(PP(3,w2),2), ' '.join(w2[1:-1]),'\\n\\n')"
   ]
  },
  {
   "cell_type": "markdown",
   "metadata": {},
   "source": [
    "### Part E\n",
    "\n",
    "Experiment with generating sentences for various values of N = 2, 3, 4. How do the perplexities compare?  Do you see a difference\n",
    "in the quality of the sentences? How well does it do with punctuation and quotes? \n",
    "\n",
    "The typical view is that for larger values of N,\n",
    "the model is just \"memorizing\" the corpus. Do you think this is true? (You might look through\n",
    "the corpus to see what relationship your generated sentences, say for N = 4, have with\n",
    "the sentences in the corpus."
   ]
  },
  {
   "cell_type": "markdown",
   "metadata": {},
   "source": [
    "**\n",
    "#### Regarding perplexities, it seems that the perplexity varies for different Ns, but a stable observation is that perplexity for bigrams is relatively higher compared to the ones generated using trigrams and quadragrams. Since a model with lower perplexity is considered \"better\", the results indicate that trigram models may have a slightly better performance than quadragram models and largely better than bigram ones.<br>\n",
    "\n",
    "#### As N increases, the quality of sentences appear to be higher, the position of punctuations are more reasonable, though I think for all Ns we tested the puctuations remain a gray area that we may need more optimizations: trigram and quadragram models produce more coherent and understandable sentences.<br> \n",
    "\n",
    "#### In theory, as N goes up, we give more contexts and the sentences generated probabilitically resemble the ones in the training data. Therefore, the model indeed memorizes the combination of tokens.**"
   ]
  }
 ],
 "metadata": {
  "kernelspec": {
   "display_name": "Python 3 (ipykernel)",
   "language": "python",
   "name": "python3"
  },
  "language_info": {
   "codemirror_mode": {
    "name": "ipython",
    "version": 3
   },
   "file_extension": ".py",
   "mimetype": "text/x-python",
   "name": "python",
   "nbconvert_exporter": "python",
   "pygments_lexer": "ipython3",
   "version": "3.9.13"
  }
 },
 "nbformat": 4,
 "nbformat_minor": 4
}
